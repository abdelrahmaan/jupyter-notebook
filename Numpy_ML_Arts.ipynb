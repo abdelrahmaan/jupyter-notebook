{
 "cells": [
  {
   "cell_type": "code",
   "execution_count": 1,
   "metadata": {},
   "outputs": [],
   "source": [
    "# code\n",
    "# https://docs.google.com/document/d/1BX7k8q2X7C32DB2TJFqk5a2CJDg-aUBJTJIVqwo1A4Y/edit"
   ]
  },
  {
   "cell_type": "code",
   "execution_count": 2,
   "metadata": {},
   "outputs": [],
   "source": [
    "import numpy as np"
   ]
  },
  {
   "cell_type": "code",
   "execution_count": 3,
   "metadata": {},
   "outputs": [
    {
     "name": "stdout",
     "output_type": "stream",
     "text": [
      "-0.9880316240928618\n",
      "0.15425144988758405\n",
      "-6.4053311966462765\n"
     ]
    }
   ],
   "source": [
    "# wrong values\n",
    "a = np.sin(30)\n",
    "b = np.cos(30)\n",
    "c = np.tan(30)\n",
    "print(a)\n",
    "print(b)\n",
    "print(c)"
   ]
  },
  {
   "cell_type": "code",
   "execution_count": 4,
   "metadata": {},
   "outputs": [
    {
     "name": "stdout",
     "output_type": "stream",
     "text": [
      "0.49999999999999994\n",
      "0.8660254037844387\n",
      "0.5773502691896256\n",
      "\n",
      "\n",
      "0.49999999999999994\n",
      "0.8660254037844387\n",
      "0.5773502691896256\n"
     ]
    }
   ],
   "source": [
    "# the correct values came by ==> degree * pi/180\n",
    "a = np.sin(30*np.pi/180)\n",
    "b = np.cos(30*np.pi/180)\n",
    "c = np.tan(30*np.pi/180)\n",
    "\n",
    "print(a)\n",
    "print(b)\n",
    "print(c)\n",
    "\n",
    "#the same out \n",
    "print(\"\\n\")\n",
    "a = np.sin(np.deg2rad(30))\n",
    "b = np.cos(np.deg2rad(30))\n",
    "c = np.tan(np.deg2rad(30))\n",
    "print(a)\n",
    "print(b)\n",
    "print(c)"
   ]
  },
  {
   "cell_type": "code",
   "execution_count": 5,
   "metadata": {},
   "outputs": [
    {
     "name": "stdout",
     "output_type": "stream",
     "text": [
      "4.0\n",
      "3.7\n",
      "3.69\n",
      "3.687\n"
     ]
    }
   ],
   "source": [
    "a = np.round(3.6873)\n",
    "print(a)\n",
    "a = np.round(3.6873,1)\n",
    "print(a)\n",
    "a = np.round(3.6873,2)\n",
    "print(a)\n",
    "a = np.round(3.6873,3)\n",
    "print(a)"
   ]
  },
  {
   "cell_type": "code",
   "execution_count": 6,
   "metadata": {},
   "outputs": [
    {
     "name": "stdout",
     "output_type": "stream",
     "text": [
      "[1 2 3 4 5]\n",
      "<class 'numpy.ndarray'>\n",
      "[[1 2 3]]\n",
      "<class 'list'>\n"
     ]
    }
   ],
   "source": [
    "a = np.array([1,2,3,4,5])\n",
    "print(a)\n",
    "print(type(a))\n",
    "\n",
    "b = [[1,2,3]]\n",
    "print(np.array(b))\n",
    "print(type(b))\n"
   ]
  },
  {
   "cell_type": "code",
   "execution_count": 7,
   "metadata": {},
   "outputs": [
    {
     "name": "stdout",
     "output_type": "stream",
     "text": [
      "[[1 2 3]\n",
      " [4 5 6]\n",
      " [7 8 9]]\n"
     ]
    }
   ],
   "source": [
    "print(np.array([range(i , i + 3) for i in [1,4,7] ]))"
   ]
  },
  {
   "cell_type": "code",
   "execution_count": 8,
   "metadata": {},
   "outputs": [
    {
     "name": "stdout",
     "output_type": "stream",
     "text": [
      "[[1.1e-322 0.0e+000]\n",
      " [0.0e+000 0.0e+000]\n",
      " [0.0e+000 0.0e+000]]\n"
     ]
    }
   ],
   "source": [
    "print(np.empty((3,2)))"
   ]
  },
  {
   "cell_type": "code",
   "execution_count": 9,
   "metadata": {},
   "outputs": [
    {
     "name": "stdout",
     "output_type": "stream",
     "text": [
      "2.1033958992374906\n"
     ]
    }
   ],
   "source": [
    "print(np.random.uniform(1,10)) # one number in range 1:10"
   ]
  },
  {
   "cell_type": "code",
   "execution_count": 10,
   "metadata": {},
   "outputs": [
    {
     "name": "stdout",
     "output_type": "stream",
     "text": [
      "[7.92765315 8.32079895 1.19875606]\n"
     ]
    }
   ],
   "source": [
    "print(np.random.uniform(1,10,3)) # 3 numbera in range 1:10"
   ]
  },
  {
   "cell_type": "code",
   "execution_count": 11,
   "metadata": {},
   "outputs": [
    {
     "name": "stdout",
     "output_type": "stream",
     "text": [
      "[[0.78534552 0.79280689]\n",
      " [0.74864746 0.5679696 ]\n",
      " [0.79044537 0.03993236]]\n"
     ]
    }
   ],
   "source": [
    "print(np.random.random((3,2))) # 0:1"
   ]
  },
  {
   "cell_type": "code",
   "execution_count": 12,
   "metadata": {},
   "outputs": [
    {
     "name": "stdout",
     "output_type": "stream",
     "text": [
      "[[8.2459098  8.78214643]\n",
      " [2.3937754  7.01735289]\n",
      " [3.61371342 9.05152855]]\n"
     ]
    }
   ],
   "source": [
    "print(np.random.random((3,2)) *10) # 1:10"
   ]
  },
  {
   "cell_type": "code",
   "execution_count": 13,
   "metadata": {},
   "outputs": [
    {
     "name": "stdout",
     "output_type": "stream",
     "text": [
      "90\n",
      "[61 74 86]\n",
      "[[79 78 88 86]\n",
      " [65 65 72 60]\n",
      " [97 95 81 97]\n",
      " [82 58 77 70]]\n"
     ]
    }
   ],
   "source": [
    "print(np.random.randint((100))) \n",
    "print(np.random.randint(50,100, size = 3))\n",
    "print(np.random.randint(50,100, (4,4)))"
   ]
  },
  {
   "cell_type": "code",
   "execution_count": 14,
   "metadata": {},
   "outputs": [
    {
     "name": "stdout",
     "output_type": "stream",
     "text": [
      "[1, 2, 3, 4, 5]\n",
      "[2, 5, 4, 3, 1]\n"
     ]
    }
   ],
   "source": [
    "a = [1,2,3,4,5]\n",
    "print(a)\n",
    "np.random.shuffle(a)#random sort\n",
    "print(a)"
   ]
  },
  {
   "cell_type": "code",
   "execution_count": 15,
   "metadata": {},
   "outputs": [
    {
     "name": "stdout",
     "output_type": "stream",
     "text": [
      "[[1. 0. 0.]\n",
      " [0. 1. 0.]\n",
      " [0. 0. 1.]]\n"
     ]
    }
   ],
   "source": [
    "identityMatrix = np.eye(3)\n",
    "print(identityMatrix)"
   ]
  },
  {
   "cell_type": "code",
   "execution_count": 16,
   "metadata": {},
   "outputs": [
    {
     "name": "stdout",
     "output_type": "stream",
     "text": [
      "[[7 7]\n",
      " [7 7]\n",
      " [7 7]]\n"
     ]
    }
   ],
   "source": [
    "a = np.full((3,2),7)\n",
    "print(a)"
   ]
  },
  {
   "cell_type": "code",
   "execution_count": 17,
   "metadata": {},
   "outputs": [
    {
     "name": "stdout",
     "output_type": "stream",
     "text": [
      "[[ 0  1  2  3  4]\n",
      " [ 5  6  7  8  9]\n",
      " [10 11 12 13 14]\n",
      " [15 16 17 18 19]]\n"
     ]
    }
   ],
   "source": [
    "a = np.arange(20).reshape(4,5)\n",
    "print(a)"
   ]
  },
  {
   "cell_type": "code",
   "execution_count": 18,
   "metadata": {},
   "outputs": [
    {
     "name": "stdout",
     "output_type": "stream",
     "text": [
      "[ 1.          2.02040816  3.04081633  4.06122449  5.08163265  6.10204082\n",
      "  7.12244898  8.14285714  9.16326531 10.18367347 11.20408163 12.2244898\n",
      " 13.24489796 14.26530612 15.28571429 16.30612245 17.32653061 18.34693878\n",
      " 19.36734694 20.3877551  21.40816327 22.42857143 23.44897959 24.46938776\n",
      " 25.48979592 26.51020408 27.53061224 28.55102041 29.57142857 30.59183673\n",
      " 31.6122449  32.63265306 33.65306122 34.67346939 35.69387755 36.71428571\n",
      " 37.73469388 38.75510204 39.7755102  40.79591837 41.81632653 42.83673469\n",
      " 43.85714286 44.87755102 45.89795918 46.91836735 47.93877551 48.95918367\n",
      " 49.97959184 51.        ]\n",
      "\n",
      "\n",
      "[ 0.  5. 10. 15. 20.]\n"
     ]
    }
   ],
   "source": [
    "a = np.linspace(1,51) # defult 50 num\n",
    "print(a)\n",
    "print(\"\\n\")\n",
    "a = np.linspace(0,20, 5) # equality distance\n",
    "print(a)"
   ]
  },
  {
   "cell_type": "code",
   "execution_count": 19,
   "metadata": {},
   "outputs": [
    {
     "name": "stdout",
     "output_type": "stream",
     "text": [
      "[[9 4 0]\n",
      " [2 3 0]\n",
      " [3 7 8]]\n",
      "7\n",
      "3\n",
      "[1 0 2]\n",
      "True\n",
      "[ True False  True]\n",
      "False\n"
     ]
    }
   ],
   "source": [
    "a = np.random.randint(0,10,(3,3))\n",
    "print(a)\n",
    "b = np.count_nonzero(a)\n",
    "print(b)\n",
    "c = np.count_nonzero(a > 5)\n",
    "print(c)\n",
    "d = np.count_nonzero(a > 5 , axis = 1) # in each row\n",
    "print(d)\n",
    "t = np.any(a>4)\n",
    "print(t)\n",
    "tt = np.any(a>7 , axis = 1)\n",
    "print(tt)\n",
    "al = np.all(a>1)\n",
    "print(al)"
   ]
  },
  {
   "cell_type": "code",
   "execution_count": 20,
   "metadata": {},
   "outputs": [
    {
     "name": "stdout",
     "output_type": "stream",
     "text": [
      "[[ 6 19 14]\n",
      " [13  4 16]\n",
      " [13 11  9]]\n",
      "-------------------\n",
      "[[False  True  True]\n",
      " [ True False  True]\n",
      " [ True  True False]]\n",
      "-------------------\n",
      "[19 14 13 16 13 11]\n"
     ]
    }
   ],
   "source": [
    "a = np.random.randint(4,20 , size = 9).reshape(3,3)\n",
    "b = a > 10\n",
    "c = a[b]\n",
    "print(a)\n",
    "print('-------------------')\n",
    "print(b)\n",
    "print('-------------------')\n",
    "print(c)"
   ]
  },
  {
   "cell_type": "code",
   "execution_count": 21,
   "metadata": {},
   "outputs": [
    {
     "name": "stdout",
     "output_type": "stream",
     "text": [
      "[1 2 3 4 5]\n",
      "15\n",
      "15\n",
      "120\n",
      "[[ 1  2  3  4  5]\n",
      " [ 2  4  6  8 10]\n",
      " [ 3  6  9 12 15]\n",
      " [ 4  8 12 16 20]\n",
      " [ 5 10 15 20 25]]\n",
      "[ 1  3  6 10 15]\n",
      "[  1   2   6  24 120]\n",
      "1\n"
     ]
    }
   ],
   "source": [
    "a = np.arange(1,6)\n",
    "print(a)\n",
    "print(sum(a))\n",
    "print(a.sum())\n",
    "print(np.multiply.reduce(a))\n",
    "print(np.multiply.outer(a,a))\n",
    "print(np.add.accumulate(a))\n",
    "print(np.multiply.accumulate(a))\n",
    "print(np.ndim(a))"
   ]
  },
  {
   "cell_type": "code",
   "execution_count": 22,
   "metadata": {
    "scrolled": true
   },
   "outputs": [
    {
     "name": "stdout",
     "output_type": "stream",
     "text": [
      "[[ 3  4  5  6  7  8]\n",
      " [ 9 10 11 12 13 14]\n",
      " [15 16 17 18 19 20]\n",
      " [21 22 23 24 25 26]\n",
      " [27 28 29 30 31 32]\n",
      " [33 34 35 36 37 38]]\n",
      "0.0\n",
      "17\n",
      "17\n",
      "--------------\n",
      "[[21 22 23 24 25 26]\n",
      " [27 28 29 30 31 32]]\n",
      "[23 29]\n",
      "22\n",
      "[[ 4  5]\n",
      " [10 11]\n",
      " [16 17]\n",
      " [22 23]\n",
      " [28 29]\n",
      " [34 35]]\n",
      "[[ 9 10 11 12 13 14]\n",
      " [15 16 17 18 19 20]]\n",
      "[[18 19 20]\n",
      " [24 25 26]\n",
      " [30 31 32]\n",
      " [36 37 38]]\n",
      "[[ 3  4  5]\n",
      " [ 9 10 11]]\n",
      "[[ 3  4  5  6  7]\n",
      " [ 9 10 11 12 13]\n",
      " [15 16 17 18 19]\n",
      " [21 22 23 24 25]\n",
      " [27 28 29 30 31]\n",
      " [33 34 35 36 37]]\n",
      "[33 34 35 36 37 38]\n"
     ]
    }
   ],
   "source": [
    "a = np.arange(3,39).reshape(6,6)\n",
    "print(a)\n",
    "print(np.linalg.det(a))\n",
    "print(a[2][2])\n",
    "print(a[2,2])\n",
    "print('--------------')\n",
    "print(a[3:5]) \n",
    "print(a[3:5 ,2]) # a[row , col]\n",
    "print(a[3,1]) # == a [3][1]\n",
    "print(a[:,1:3]) \n",
    "print(a[1:3,:]) \n",
    "print(a[2:,3:])\n",
    "print(a[:2,:3])\n",
    "print(a[:,:-1])\n",
    "print(a[-1,:])"
   ]
  },
  {
   "cell_type": "code",
   "execution_count": 23,
   "metadata": {},
   "outputs": [
    {
     "name": "stdout",
     "output_type": "stream",
     "text": [
      "[[ 3  4  5  6  7  8]\n",
      " [ 9 10 11 12 13 14]\n",
      " [15 16 17 18 19 20]\n",
      " [21 22 23 24 25 26]\n",
      " [27 28 29 30 31 32]\n",
      " [33 34 35 36 37 38]]\n",
      "--------------\n",
      "[[ 3  6]\n",
      " [15 18]\n",
      " [27 30]]\n",
      "[[38 37 36 35 34 33]\n",
      " [32 31 30 29 28 27]\n",
      " [26 25 24 23 22 21]\n",
      " [20 19 18 17 16 15]\n",
      " [14 13 12 11 10  9]\n",
      " [ 8  7  6  5  4  3]]\n",
      "[[38]]\n"
     ]
    }
   ],
   "source": [
    "a = np.arange(3,39).reshape(6,6)\n",
    "print(a)\n",
    "print('--------------')\n",
    "print(a[::2,::3])\n",
    "print(a[::-1,::-1])\n",
    "print(a[-1::,-1::])"
   ]
  },
  {
   "cell_type": "code",
   "execution_count": 24,
   "metadata": {},
   "outputs": [
    {
     "name": "stdout",
     "output_type": "stream",
     "text": [
      "[1 2 3] [4 5 6] [7 8]\n",
      "[1 2 3 4] [] [1 2 3 4 5 6 7 8]\n"
     ]
    }
   ],
   "source": [
    "x = [1,2,3,4,5,6,7,8]\n",
    "x1,x2,x3 = np.split(x,(3,6))\n",
    "print(x1,x2,x3)\n",
    "x1,x2,x3 = np.split(x,(4,0))\n",
    "print(x1,x2,x3)"
   ]
  },
  {
   "cell_type": "code",
   "execution_count": 25,
   "metadata": {},
   "outputs": [
    {
     "name": "stdout",
     "output_type": "stream",
     "text": [
      "[[0 1]\n",
      " [2 3]]\n",
      "------------\n",
      "[[0 2]\n",
      " [4 6]]\n",
      "------------\n",
      "[[0 1]\n",
      " [2 3]\n",
      " [0 2]\n",
      " [4 6]]\n",
      "------------\n",
      "[[0 1 0 2]\n",
      " [2 3 4 6]]\n"
     ]
    }
   ],
   "source": [
    "a = np.arange(4).reshape(2,2)\n",
    "b = 2*a\n",
    "print(a)\n",
    "print('------------')\n",
    "print(b)\n",
    "c = np.vstack((a,b)) # v ==> vertical,must a & b have the same col\n",
    "print('------------')\n",
    "print(c)\n",
    "c = np.hstack((a,b)) # h ==> horizontal,must a & b have the same row\n",
    "print('------------')\n",
    "print(c)\n"
   ]
  },
  {
   "cell_type": "code",
   "execution_count": 26,
   "metadata": {},
   "outputs": [
    {
     "name": "stdout",
     "output_type": "stream",
     "text": [
      "[[14  6 10]\n",
      " [17  9 11]\n",
      " [15  7 12]]\n",
      "------------\n",
      "[[14  8  9]\n",
      " [ 8  6 17]\n",
      " [ 9 17 16]]\n",
      "------V------\n",
      "[[14  6 10]\n",
      " [17  9 11]\n",
      " [15  7 12]\n",
      " [14  8  9]\n",
      " [ 8  6 17]\n",
      " [ 9 17 16]]\n",
      "-------H-----\n",
      "[[14  6 10 14  8  9]\n",
      " [17  9 11  8  6 17]\n",
      " [15  7 12  9 17 16]]\n"
     ]
    }
   ],
   "source": [
    "a = np.random.randint(5,20,size=9).reshape(3,3)\n",
    "b = np.random.randint(5,20,size=9).reshape(3,3)\n",
    "c = np.concatenate((a,b) , axis = 0) # == vstack,horizontal\n",
    "print(a)\n",
    "print('------------')\n",
    "print(b)\n",
    "print('------V------')\n",
    "print(c)\n",
    "c = np.concatenate((a,b) , axis = 1) # == hstack ,horizontal\n",
    "print('-------H-----')\n",
    "print(c)"
   ]
  },
  {
   "cell_type": "code",
   "execution_count": 27,
   "metadata": {},
   "outputs": [
    {
     "name": "stdout",
     "output_type": "stream",
     "text": [
      "[[29 33 25]\n",
      " [14 24 29]\n",
      " [28 26 29]]\n"
     ]
    }
   ],
   "source": [
    "a = np.random.randint(5,20,size=9).reshape(3,3)\n",
    "b = np.random.randint(5,20,size=9).reshape(3,3)\n",
    "print(a+b)"
   ]
  },
  {
   "cell_type": "code",
   "execution_count": 28,
   "metadata": {},
   "outputs": [
    {
     "name": "stdout",
     "output_type": "stream",
     "text": [
      "[[144 228 221]\n",
      " [ 42 110  90]\n",
      " [224 238  78]]\n",
      "[[0.44444444 1.58333333 0.76470588]\n",
      " [0.85714286 0.90909091 0.4       ]\n",
      " [1.14285714 1.21428571 2.16666667]]\n"
     ]
    }
   ],
   "source": [
    "a = np.random.randint(5,20,size=9).reshape(3,3)\n",
    "b = np.random.randint(5,20,size=9).reshape(3,3)\n",
    "print(a*b) # each cell in a * Opposite cell in b \n",
    "print(a/b) # each cell in a / Opposite cell in b "
   ]
  },
  {
   "cell_type": "code",
   "execution_count": 29,
   "metadata": {},
   "outputs": [
    {
     "name": "stdout",
     "output_type": "stream",
     "text": [
      "[[501 479]\n",
      " [356 346]]\n"
     ]
    }
   ],
   "source": [
    "a = np.random.randint(5,20,size=6).reshape(2,3)\n",
    "b = np.random.randint(5,20,size=6).reshape(3,2)\n",
    "print(np.dot(a,b)) # (2*3)(3,2) \n",
    " "
   ]
  },
  {
   "cell_type": "code",
   "execution_count": 30,
   "metadata": {},
   "outputs": [
    {
     "name": "stdout",
     "output_type": "stream",
     "text": [
      "[[9 9 9]\n",
      " [4 1 9]\n",
      " [8 7 3]]\n",
      "-------------\n",
      "59\n",
      "59\n",
      "-----summation of each row--------\n",
      "[27 14 18]\n",
      "[27 14 18]\n",
      "-----summation of each col--------\n",
      "[21 17 21]\n",
      "[21 17 21]\n"
     ]
    }
   ],
   "source": [
    "a = np.random.randint(1,10 , size = 9).reshape(3,3)\n",
    "print(a)\n",
    "print('-------------')\n",
    "print(np.sum(a))\n",
    "print(a.sum())\n",
    "print('-----summation of each row--------')\n",
    "print(np.sum(a , axis = 1))\n",
    "print(a.sum(axis = 1))\n",
    "print('-----summation of each col--------')\n",
    "print(np.sum(a , axis = 0))\n",
    "print(a.sum(axis = 0))\n"
   ]
  },
  {
   "cell_type": "code",
   "execution_count": 31,
   "metadata": {},
   "outputs": [
    {
     "name": "stdout",
     "output_type": "stream",
     "text": [
      "4.555555555555555\n",
      "2.629368792488718\n",
      "6.913580246913581\n"
     ]
    }
   ],
   "source": [
    "a = np.random.randint(1,10 , size = 9).reshape(3,3)\n",
    "print(a.mean())\n",
    "print(a.std())\n",
    "print(a.var()) # variance "
   ]
  },
  {
   "cell_type": "code",
   "execution_count": 32,
   "metadata": {},
   "outputs": [
    {
     "name": "stdout",
     "output_type": "stream",
     "text": [
      "[[4 4 3]\n",
      " [7 5 1]\n",
      " [2 1 8]]\n",
      "-----sorting of each row--------\n",
      "[[3 4 4]\n",
      " [1 5 7]\n",
      " [1 2 8]]\n",
      "-----sorting of each col--------\n",
      "[[2 1 1]\n",
      " [4 4 3]\n",
      " [7 5 8]]\n"
     ]
    }
   ],
   "source": [
    "a = np.random.randint(1,10 , size = 9).reshape(3,3)\n",
    "print(a)\n",
    "print('-----sorting of each row--------')\n",
    "print(np.sort(a,axis = 1))\n",
    "print('-----sorting of each col--------')\n",
    "print(np.sort(a,axis = 0))"
   ]
  },
  {
   "cell_type": "code",
   "execution_count": 33,
   "metadata": {},
   "outputs": [
    {
     "name": "stdout",
     "output_type": "stream",
     "text": [
      "[[3 2 1]\n",
      " [3 1 2]\n",
      " [1 3 3]]\n",
      "-------------\n",
      "[[ 0.2         0.2        -0.2       ]\n",
      " [ 0.46666667 -0.53333333  0.2       ]\n",
      " [-0.53333333  0.46666667  0.2       ]]\n",
      "-------------\n",
      "[[ 1.00000000e+00  0.00000000e+00  2.77555756e-17]\n",
      " [ 0.00000000e+00  1.00000000e+00  0.00000000e+00]\n",
      " [-1.11022302e-16 -1.11022302e-16  1.00000000e+00]]\n"
     ]
    }
   ],
   "source": [
    "matrix_a = np.random.randint(1,4 , size = 9).reshape(3,3)\n",
    "matrix_b = np.linalg.inv(matrix_a)\n",
    "identity_M = np.dot(matrix_a, matrix_b)\n",
    "print(matrix_a)\n",
    "print('-------------')\n",
    "print(matrix_b)\n",
    "print('-------------')\n",
    "print(identity_M)\n",
    "# x = 2 , inv = 1/2 , because 2*1/2=1\n",
    "# matrix a * inverse a = identity matrix "
   ]
  },
  {
   "cell_type": "markdown",
   "metadata": {},
   "source": [
    "# Polynomial"
   ]
  },
  {
   "cell_type": "code",
   "execution_count": 34,
   "metadata": {},
   "outputs": [
    {
     "name": "stdout",
     "output_type": "stream",
     "text": [
      "poly([ 5.5 -4.5])\n"
     ]
    }
   ],
   "source": [
    "# Best fit line deg of 1\n",
    "import numpy as np\n",
    "Polynomial = np.polynomial.Polynomial\n",
    "X = np.array([0,20,40,60,80,100,120,140,160,180])\n",
    "Y = np.array([10,9,8,7,6,5,4,3,2,1])\n",
    "points,stats = Polynomial.fit(X,Y,1,full=True)\n",
    "print(points) # Y = 5.5X-4.5"
   ]
  },
  {
   "cell_type": "code",
   "execution_count": 35,
   "metadata": {},
   "outputs": [
    {
     "name": "stdout",
     "output_type": "stream",
     "text": [
      "poly([ 5.50000000e+00 -4.50000000e+00  4.47311763e-16])\n"
     ]
    }
   ],
   "source": [
    "# Best fit line deg of 2\n",
    "import numpy as np\n",
    "Polynomial = np.polynomial.Polynomial\n",
    "X = np.array([0,20,40,60,80,100,120,140,160,180])\n",
    "Y = np.array([10,9,8,7,6,5,4,3,2,1])\n",
    "points,stats = Polynomial.fit(X,Y,2,full=True)\n",
    "print(points) # Y = 5.5X^2 - 4.5X"
   ]
  },
  {
   "cell_type": "code",
   "execution_count": 36,
   "metadata": {},
   "outputs": [
    {
     "name": "stdout",
     "output_type": "stream",
     "text": [
      " \n",
      "-7\n",
      "-------------------------\n",
      " \n",
      "-7 x + 2\n",
      "-------------------------\n",
      "    2\n",
      "-7 x + 2 x + 1\n",
      "-------------------------\n",
      "    3     2\n",
      "-7 x + 2 x + 1 x + 3\n",
      "-------------------------\n",
      "    4     3     2\n",
      "-7 x + 2 x + 1 x + 3 x + 6\n"
     ]
    }
   ],
   "source": [
    "# writing equations\n",
    "import numpy as np\n",
    "a = np.poly1d((-7))\n",
    "b = np.poly1d((-7,2))\n",
    "c = np.poly1d((-7,2,1))\n",
    "d = np.poly1d((-7,2,1,3))\n",
    "e = np.poly1d((-7,2,1,3,6))\n",
    "print(a)\n",
    "print('-------------------------')\n",
    "print(b)\n",
    "print('-------------------------')\n",
    "print(c)\n",
    "print('-------------------------')\n",
    "print(d)\n",
    "print('-------------------------')\n",
    "print(e)"
   ]
  },
  {
   "cell_type": "code",
   "execution_count": 37,
   "metadata": {},
   "outputs": [
    {
     "name": "stdout",
     "output_type": "stream",
     "text": [
      "    4     3     2\n",
      "-7 x + 2 x + 1 x + 3 x + 6\n",
      "6\n",
      "--------- the same ----------------\n",
      "6\n"
     ]
    }
   ],
   "source": [
    "equ = np.poly1d((-7,2,1,3,6))\n",
    "print(equ)\n",
    "print(equ(0)) # when x = 0\n",
    "print('--------- the same ----------------')\n",
    "equ = np.polyval((-7,2,1,3,6) , 0)\n",
    "print(equ)"
   ]
  },
  {
   "cell_type": "code",
   "execution_count": 38,
   "metadata": {},
   "outputs": [
    {
     "name": "stdout",
     "output_type": "stream",
     "text": [
      " \n",
      "0\n",
      "-----------when X = 2--------------\n",
      "0.0\n",
      "-------------------------\n",
      " \n",
      "0\n",
      "-----------when X = 2--------------\n",
      "0.0\n"
     ]
    }
   ],
   "source": [
    "# derivatives \n",
    "equ = np.poly1d((1,2,3))\n",
    "der1 = np.polyder((a))\n",
    "der2 = np.polyder((a),2)\n",
    "\n",
    "print(der1)\n",
    "print('-----------when X = 2--------------')\n",
    "print(der1(2))\n",
    "print('-------------------------')\n",
    "\n",
    "\n",
    "print(der2)\n",
    "print('-----------when X = 2--------------')\n",
    "print(der2(2)) # when X = 2\n"
   ]
  },
  {
   "cell_type": "code",
   "execution_count": 39,
   "metadata": {},
   "outputs": [
    {
     "name": "stdout",
     "output_type": "stream",
     "text": [
      "        3     2\n",
      "0.3333 x + 1 x + 3 x\n",
      "-------------------------\n",
      "         4          3       2\n",
      "0.08333 x + 0.3333 x + 1.5 x\n",
      "-------------------------\n",
      "         5           4       3\n",
      "0.01667 x + 0.08333 x + 0.5 x\n"
     ]
    }
   ],
   "source": [
    "# integration\n",
    "a = np.polyint(np.poly1d((1,2,3)))\n",
    "b = np.polyint(np.poly1d((1,2,3)),2)\n",
    "c = np.polyint(np.poly1d((1,2,3)),3)  \n",
    "print(a)\n",
    "print('-------------------------')\n",
    "print(b)\n",
    "print('-------------------------')\n",
    "print(c)\n"
   ]
  },
  {
   "cell_type": "code",
   "execution_count": 40,
   "metadata": {},
   "outputs": [
    {
     "name": "stdout",
     "output_type": "stream",
     "text": [
      "[-2.]\n",
      "-------------------------\n",
      "[-1.+1.41421356j -1.-1.41421356j]\n"
     ]
    }
   ],
   "source": [
    "# roots of equationns\n",
    "# that's numbers make the equation = 0\n",
    "\n",
    "a = np.roots(np.poly1d((1,2)))\n",
    "b = np.roots(np.poly1d((1,2,3)))\n",
    "\n",
    "\n",
    "print(a)\n",
    "print('-------------------------')\n",
    "print(b)\n"
   ]
  },
  {
   "cell_type": "markdown",
   "metadata": {},
   "source": [
    "# dates"
   ]
  },
  {
   "cell_type": "code",
   "execution_count": 41,
   "metadata": {},
   "outputs": [
    {
     "name": "stdout",
     "output_type": "stream",
     "text": [
      "2019-08-26\n",
      "['2019-08-26' '2019-08-27' '2019-08-28' '2019-08-29' '2019-08-30'\n",
      " '2019-08-31' '2019-09-01' '2019-09-02' '2019-09-03' '2019-09-04'\n",
      " '2019-09-05']\n"
     ]
    }
   ],
   "source": [
    "date = np.datetime64('2019-08-26')\n",
    "print(date)\n",
    "date = date + np.arange(11)\n",
    "print(date)"
   ]
  },
  {
   "cell_type": "code",
   "execution_count": 42,
   "metadata": {},
   "outputs": [
    {
     "name": "stdout",
     "output_type": "stream",
     "text": [
      "8071 days\n"
     ]
    }
   ],
   "source": [
    "a = np.datetime64('1997-07-21')\n",
    "b = np.datetime64('2019-08-26')\n",
    "print(b-a)"
   ]
  },
  {
   "cell_type": "markdown",
   "metadata": {},
   "source": [
    "# lambda"
   ]
  },
  {
   "cell_type": "code",
   "execution_count": 43,
   "metadata": {},
   "outputs": [
    {
     "name": "stdout",
     "output_type": "stream",
     "text": [
      "49\n"
     ]
    }
   ],
   "source": [
    "l = (lambda x:x**2)\n",
    "print(l(7))"
   ]
  },
  {
   "cell_type": "code",
   "execution_count": 44,
   "metadata": {},
   "outputs": [
    {
     "name": "stdout",
     "output_type": "stream",
     "text": [
      "[ 0.  1.  4.  9. 16. 25.]\n"
     ]
    }
   ],
   "source": [
    "l = np.fromfunction(lambda x:x**2 , (6,))\n",
    "print(l)"
   ]
  },
  {
   "cell_type": "code",
   "execution_count": 45,
   "metadata": {},
   "outputs": [
    {
     "name": "stdout",
     "output_type": "stream",
     "text": [
      "[[0. 1. 2. 3. 4.]\n",
      " [1. 2. 3. 4. 5.]\n",
      " [2. 3. 4. 5. 6.]\n",
      " [3. 4. 5. 6. 7.]]\n"
     ]
    }
   ],
   "source": [
    "x = np.fromfunction(lambda i,j:i+j , (4,5))\n",
    "print(x)"
   ]
  },
  {
   "cell_type": "code",
   "execution_count": 46,
   "metadata": {},
   "outputs": [
    {
     "name": "stdout",
     "output_type": "stream",
     "text": [
      "[[[0. 1. 2. 3.]\n",
      "  [1. 2. 3. 4.]\n",
      "  [2. 3. 4. 5.]]\n",
      "\n",
      " [[1. 2. 3. 4.]\n",
      "  [2. 3. 4. 5.]\n",
      "  [3. 4. 5. 6.]]]\n"
     ]
    }
   ],
   "source": [
    "x = np.fromfunction(lambda i,j,k: i+j+k, (2,3,4))\n",
    "print(x)\n"
   ]
  },
  {
   "cell_type": "code",
   "execution_count": null,
   "metadata": {},
   "outputs": [],
   "source": []
  }
 ],
 "metadata": {
  "kernelspec": {
   "display_name": "Python 3",
   "language": "python",
   "name": "python3"
  },
  "language_info": {
   "codemirror_mode": {
    "name": "ipython",
    "version": 3
   },
   "file_extension": ".py",
   "mimetype": "text/x-python",
   "name": "python",
   "nbconvert_exporter": "python",
   "pygments_lexer": "ipython3",
   "version": "3.7.1"
  }
 },
 "nbformat": 4,
 "nbformat_minor": 2
}
